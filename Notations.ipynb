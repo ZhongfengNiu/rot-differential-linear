{
 "cells": [
  {
   "cell_type": "markdown",
   "metadata": {},
   "source": [
    "### Modulo additions with initial carry bit"
   ]
  },
  {
   "cell_type": "code",
   "execution_count": 5,
   "metadata": {},
   "outputs": [
    {
     "name": "stdout",
     "output_type": "stream",
     "text": [
      "0x8c\n",
      "0x8d\n"
     ]
    }
   ],
   "source": [
    "x = 0xE9\n",
    "y = 0xA3\n",
    "\n",
    "# Modulo addition with initial carry bit being 0\n",
    "a = (x + y + 0) % 2^8\n",
    "\n",
    "# Modulo addition with initial carry bit being 1\n",
    "b = (x + y + 1) % 2^8\n",
    "\n",
    "print(hex(a))\n",
    "print(hex(b))"
   ]
  },
  {
   "cell_type": "markdown",
   "metadata": {},
   "source": [
    "### Useful partitions"
   ]
  },
  {
   "cell_type": "code",
   "execution_count": 89,
   "metadata": {},
   "outputs": [],
   "source": [
    "def carry(a, b, c): #define the carry function\n",
    "    return (a & b) ^^ (a & c) ^^ (b & c)\n",
    "\n",
    "def partition(alpha, beta, u, v, a, b, bit_length):\n",
    "    D = list()\n",
    "    for i in range(0, 2^bit_length):\n",
    "        for j in range(0, 2^bit_length):\n",
    "            i_string = Integer(i).binary().zfill(bit_length)\n",
    "            j_string = Integer(j).binary().zfill(bit_length)\n",
    "            x = tuple([Integer(i) for i in i_string])\n",
    "            y = tuple([Integer(j) for j in j_string])\n",
    "            \n",
    "            # Iteratively compute the most significant carries\n",
    "            cx = a\n",
    "            cy = b\n",
    "            for t in range(0, k):\n",
    "                cx = carry(x[k-1-t], y[k-1-t], cx)\n",
    "                cy = carry(x[k-1-t]^^alpha[k-1-t], y[k-1-t]^^beta[k-1-t], cy)\n",
    "                \n",
    "            if (cx == u) and (cy == v):\n",
    "                D.append(x + y)\n",
    "            \n",
    "    return D"
   ]
  },
  {
   "cell_type": "code",
   "execution_count": 91,
   "metadata": {},
   "outputs": [
    {
     "data": {
      "text/plain": [
       "[(0, 0, 0, 0, 0, 0),\n",
       " (0, 0, 0, 0, 0, 1),\n",
       " (0, 0, 0, 0, 1, 0),\n",
       " (0, 0, 0, 0, 1, 1),\n",
       " (0, 0, 1, 0, 0, 1),\n",
       " (0, 0, 1, 0, 1, 0),\n",
       " (0, 0, 1, 0, 1, 1),\n",
       " (0, 1, 0, 0, 1, 0),\n",
       " (0, 1, 0, 0, 1, 1),\n",
       " (0, 1, 1, 0, 1, 1),\n",
       " (1, 0, 0, 0, 0, 0),\n",
       " (1, 0, 0, 0, 0, 1),\n",
       " (1, 0, 0, 0, 1, 0),\n",
       " (1, 0, 0, 0, 1, 1),\n",
       " (1, 0, 1, 0, 0, 0),\n",
       " (1, 0, 1, 0, 0, 1),\n",
       " (1, 0, 1, 0, 1, 0),\n",
       " (1, 1, 0, 0, 0, 0),\n",
       " (1, 1, 0, 0, 0, 1),\n",
       " (1, 1, 1, 0, 0, 0)]"
      ]
     },
     "execution_count": 91,
     "metadata": {},
     "output_type": "execute_result"
    }
   ],
   "source": [
    "# Example 4 in Section 2\n",
    "alpha = tuple([0, 1, 1])\n",
    "beta =  tuple([1, 0, 0])\n",
    "k = 3\n",
    "u = 0\n",
    "v = 1\n",
    "a = 0\n",
    "b = 1\n",
    "partition(alpha, beta, u, v, a, b, k)"
   ]
  },
  {
   "cell_type": "code",
   "execution_count": 95,
   "metadata": {},
   "outputs": [
    {
     "data": {
      "text/plain": [
       "[(0, 0, 1, 0), (0, 0, 1, 1), (0, 1, 0, 0), (0, 1, 1, 0)]"
      ]
     },
     "execution_count": 95,
     "metadata": {},
     "output_type": "execute_result"
    }
   ],
   "source": [
    "# Example 4 in Section 2\n",
    "alpha = tuple([0, 1])\n",
    "beta =  tuple([1, 0])\n",
    "k = 2\n",
    "u = 0\n",
    "v = 0\n",
    "a = 0\n",
    "b = 1\n",
    "partition(alpha, beta, u, v, a, b, k)"
   ]
  },
  {
   "cell_type": "code",
   "execution_count": 96,
   "metadata": {},
   "outputs": [
    {
     "data": {
      "text/plain": [
       "[(0, 0), (1, 0)]"
      ]
     },
     "execution_count": 96,
     "metadata": {},
     "output_type": "execute_result"
    }
   ],
   "source": [
    "# Example 3 in Section 2\n",
    "alpha = tuple([0])\n",
    "beta =  tuple([1])\n",
    "k = 1\n",
    "u = 0\n",
    "v = 1\n",
    "a = 0\n",
    "b = 1\n",
    "partition(alpha, beta, u, v, a, b, k)"
   ]
  },
  {
   "cell_type": "code",
   "execution_count": 97,
   "metadata": {},
   "outputs": [
    {
     "data": {
      "text/plain": [
       "[(0, 1), (1, 0), (1, 1)]"
      ]
     },
     "execution_count": 97,
     "metadata": {},
     "output_type": "execute_result"
    }
   ],
   "source": [
    "# Example 3 in Section 2\n",
    "alpha = tuple([0])\n",
    "beta =  tuple([0])\n",
    "k = 1\n",
    "u = 1\n",
    "v = 1\n",
    "a = 1\n",
    "b = 1\n",
    "partition(alpha, beta, u, v, a, b, k)"
   ]
  },
  {
   "cell_type": "code",
   "execution_count": 98,
   "metadata": {},
   "outputs": [
    {
     "data": {
      "text/plain": [
       "[]"
      ]
     },
     "execution_count": 98,
     "metadata": {},
     "output_type": "execute_result"
    }
   ],
   "source": [
    "# Example 3 in Section 2\n",
    "alpha = tuple([1])\n",
    "beta =  tuple([1])\n",
    "k = 1\n",
    "u = 1\n",
    "v = 1\n",
    "a = 0\n",
    "b = 1\n",
    "partition(alpha, beta, u, v, a, b, k)"
   ]
  },
  {
   "cell_type": "code",
   "execution_count": null,
   "metadata": {},
   "outputs": [],
   "source": []
  }
 ],
 "metadata": {
  "kernelspec": {
   "display_name": "SageMath 9.2",
   "language": "sage",
   "name": "sagemath"
  },
  "language_info": {
   "codemirror_mode": {
    "name": "ipython",
    "version": 3
   },
   "file_extension": ".py",
   "mimetype": "text/x-python",
   "name": "python",
   "nbconvert_exporter": "python",
   "pygments_lexer": "ipython3",
   "version": "3.7.7"
  }
 },
 "nbformat": 4,
 "nbformat_minor": 4
}
